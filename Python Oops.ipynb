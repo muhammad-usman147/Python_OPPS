{
 "cells": [
  {
   "cell_type": "markdown",
   "metadata": {},
   "source": [
    "# Object Oriented Programming"
   ]
  },
  {
   "cell_type": "markdown",
   "metadata": {},
   "source": [
    "# Oops provide code reusibility\n",
    "\n",
    "# It has object:\n",
    "# object means instance, which means it is a part of somethings, that is a class # though which it is derived, and that object can access the codes of that class \n",
    " # until that code is not private.\n",
    "# one class can contain many objects.\n",
    "# example, a car is a class which has it's own behaviour and features and the      # owner of that car  is the object "
   ]
  },
  {
   "cell_type": "markdown",
   "metadata": {},
   "source": [
    "# A class is that which contains the attribute and some functions inside itself"
   ]
  },
  {
   "cell_type": "code",
   "execution_count": 26,
   "metadata": {},
   "outputs": [],
   "source": [
    "class Patient():\n",
    "    def __init__(a,name,age,gender,disease):\n",
    "        #this is a initializer in python, constructor in other languages\n",
    "        # __ these double underscores are called DUNDER\n",
    "        a.name=name\n",
    "        a.age=age\n",
    "        a.gender=gender\n",
    "        a.disease=disease\n",
    "        # these are called Attiributes\n",
    "    #defining the behaviour of the Patient(class)\n",
    "    # these behoviours are actially called Mehtods of a class\n",
    "    def take_medicine(a):\n",
    "        print(f\"{a.name} is taking medicine\")\n",
    "    def take_rest(a):\n",
    "        print(f\"{a.name} is resting\")\n",
    "    def depositMoney(a):\n",
    "        print(f\"{a.name} is Depositing money\")"
   ]
  },
  {
   "cell_type": "code",
   "execution_count": 27,
   "metadata": {},
   "outputs": [],
   "source": [
    "#creating the object of the class\n",
    "p1=Patient(\"John\",54,\"Male\",\"Fever\")"
   ]
  },
  {
   "cell_type": "code",
   "execution_count": 28,
   "metadata": {},
   "outputs": [
    {
     "name": "stdout",
     "output_type": "stream",
     "text": [
      " The Gender of John is Male\n",
      "John is taking medicine\n"
     ]
    }
   ],
   "source": [
    "print(f\" The Gender of {p1.name} is {p1.gender}\")\n",
    "p1.take_medicine()"
   ]
  },
  {
   "cell_type": "markdown",
   "metadata": {},
   "source": [
    "# Creating class of Student"
   ]
  },
  {
   "cell_type": "code",
   "execution_count": 79,
   "metadata": {},
   "outputs": [],
   "source": [
    "class SirSyedStudents():\n",
    "    #the first paremeter in the __init__ is the this variable,this is actually an internal object\n",
    "    #you can name it whatever you want\n",
    "    def __init__(zain,name,batch,clss):\n",
    "        zain.name=name\n",
    "        zain.batch=batch\n",
    "        zain.clss=clss\n",
    "    def GetGrades(zain):\n",
    "        zain.semgrades=[]\n",
    "        for i in range(4):\n",
    "            zain.semgrades.append(int(input(f\"Enter your {i} Grade: \")))\n",
    "    def CalculateGrades(zain):\n",
    "        print(f\"{zain.name} Grades Are {sum(zain.semgrades)/100}\")\n",
    "        "
   ]
  },
  {
   "cell_type": "code",
   "execution_count": 80,
   "metadata": {},
   "outputs": [],
   "source": [
    "x=SirSyedStudents('zain',123,2)"
   ]
  },
  {
   "cell_type": "code",
   "execution_count": 81,
   "metadata": {},
   "outputs": [
    {
     "name": "stdout",
     "output_type": "stream",
     "text": [
      "Enter your 0 Grade: 100\n",
      "Enter your 1 Grade: 100\n",
      "Enter your 2 Grade: 100\n",
      "Enter your 3 Grade: 99\n"
     ]
    }
   ],
   "source": [
    "x.GetGrades()"
   ]
  },
  {
   "cell_type": "code",
   "execution_count": 82,
   "metadata": {},
   "outputs": [
    {
     "name": "stdout",
     "output_type": "stream",
     "text": [
      "zain Grades Are 3.99\n"
     ]
    }
   ],
   "source": [
    "x.CalculateGrades()"
   ]
  },
  {
   "cell_type": "markdown",
   "metadata": {},
   "source": [
    "# another Example"
   ]
  },
  {
   "cell_type": "code",
   "execution_count": 88,
   "metadata": {},
   "outputs": [],
   "source": [
    "class car():\n",
    "    def __init__(self,make,model,year):\n",
    "        self.make=make\n",
    "        self.model=model\n",
    "        self.year=year\n",
    "    def get_descriptive_name(self):\n",
    "        long_name=str(self.year)+' '+self.make+' '+self.model\n",
    "        return long_name.title()"
   ]
  },
  {
   "cell_type": "code",
   "execution_count": 89,
   "metadata": {},
   "outputs": [],
   "source": [
    "my_name_car=car('audi','a4',2016)"
   ]
  },
  {
   "cell_type": "code",
   "execution_count": 90,
   "metadata": {},
   "outputs": [
    {
     "data": {
      "text/plain": [
       "'2016 Audi A4'"
      ]
     },
     "execution_count": 90,
     "metadata": {},
     "output_type": "execute_result"
    }
   ],
   "source": [
    "my_name_car.get_descriptive_name()"
   ]
  },
  {
   "cell_type": "markdown",
   "metadata": {},
   "source": [
    "# setting a default value for an attribute"
   ]
  },
  {
   "cell_type": "code",
   "execution_count": 111,
   "metadata": {},
   "outputs": [],
   "source": [
    "class car():\n",
    "    def __init__(self,make,model,year):\n",
    "        self.make=make\n",
    "        self.model=model\n",
    "        self.year=year\n",
    "        self.odometer_reading=0\n",
    "    def get_descriptive_name(self):\n",
    "        long_name=str(self.year)+' '+self.make+' '+self.model\n",
    "        return long_name.title()\n",
    "    def read_odometer(self):\n",
    "        print(f\"the car has travelled {self.odometer_reading} miles\")\n",
    "    def update_odometer(self,milage):\n",
    "        self.odometer_reading=milage\n",
    "    def increase_odometer(self,milage):\n",
    "        self.odometer_reading+=milage"
   ]
  },
  {
   "cell_type": "code",
   "execution_count": 112,
   "metadata": {},
   "outputs": [],
   "source": [
    "abcCar=car(\"abc\",\"good\",2019)"
   ]
  },
  {
   "cell_type": "code",
   "execution_count": 113,
   "metadata": {},
   "outputs": [],
   "source": [
    "xyzCar=car(\"xyz\",\"bad\",2018)"
   ]
  },
  {
   "cell_type": "code",
   "execution_count": 114,
   "metadata": {},
   "outputs": [
    {
     "name": "stdout",
     "output_type": "stream",
     "text": [
      "the car has travelled 0 miles\n"
     ]
    }
   ],
   "source": [
    "abcCar.read_odometer()"
   ]
  },
  {
   "cell_type": "code",
   "execution_count": 115,
   "metadata": {},
   "outputs": [],
   "source": [
    "abcCar.increase_odometer(123)"
   ]
  },
  {
   "cell_type": "code",
   "execution_count": 116,
   "metadata": {},
   "outputs": [
    {
     "name": "stdout",
     "output_type": "stream",
     "text": [
      "the car has travelled 123 miles\n"
     ]
    }
   ],
   "source": [
    "abcCar.read_odometer()"
   ]
  },
  {
   "cell_type": "code",
   "execution_count": 117,
   "metadata": {},
   "outputs": [],
   "source": [
    "abcCar.increase_odometer(123)"
   ]
  },
  {
   "cell_type": "code",
   "execution_count": 118,
   "metadata": {},
   "outputs": [
    {
     "name": "stdout",
     "output_type": "stream",
     "text": [
      "the car has travelled 246 miles\n"
     ]
    }
   ],
   "source": [
    "abcCar.read_odometer()"
   ]
  },
  {
   "cell_type": "code",
   "execution_count": null,
   "metadata": {},
   "outputs": [],
   "source": []
  }
 ],
 "metadata": {
  "kernelspec": {
   "display_name": "Python 3",
   "language": "python",
   "name": "python3"
  },
  "language_info": {
   "codemirror_mode": {
    "name": "ipython",
    "version": 3
   },
   "file_extension": ".py",
   "mimetype": "text/x-python",
   "name": "python",
   "nbconvert_exporter": "python",
   "pygments_lexer": "ipython3",
   "version": "3.6.8"
  }
 },
 "nbformat": 4,
 "nbformat_minor": 2
}
